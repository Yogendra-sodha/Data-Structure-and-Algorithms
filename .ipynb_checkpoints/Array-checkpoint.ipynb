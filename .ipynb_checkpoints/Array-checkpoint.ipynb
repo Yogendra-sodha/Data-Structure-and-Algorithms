{
 "cells": [
  {
   "cell_type": "code",
   "execution_count": 1,
   "id": "2ddafa04",
   "metadata": {},
   "outputs": [],
   "source": [
    "from array import *\n",
    "import numpy as np"
   ]
  },
  {
   "cell_type": "markdown",
   "id": "397e186d",
   "metadata": {},
   "source": [
    "Accessing all the elements of array"
   ]
  },
  {
   "cell_type": "code",
   "execution_count": 2,
   "id": "a92fbd8b",
   "metadata": {},
   "outputs": [
    {
     "name": "stdout",
     "output_type": "stream",
     "text": [
      "1\n",
      "2\n",
      "3\n",
      "4\n",
      "5\n",
      "6\n",
      "7\n"
     ]
    }
   ],
   "source": [
    "arr = array('i',[1,2,3,4,5,6,7])\n",
    "for i in arr:\n",
    "    print(i)"
   ]
  },
  {
   "cell_type": "markdown",
   "id": "5693aa69",
   "metadata": {},
   "source": [
    "Adding to the array"
   ]
  },
  {
   "cell_type": "code",
   "execution_count": 3,
   "id": "090ecebe",
   "metadata": {},
   "outputs": [
    {
     "data": {
      "text/plain": [
       "array('i', [1, 2, 3, 4, 5, 6, 7, 7])"
      ]
     },
     "execution_count": 3,
     "metadata": {},
     "output_type": "execute_result"
    }
   ],
   "source": [
    "arr.append(7)\n",
    "arr"
   ]
  },
  {
   "cell_type": "code",
   "execution_count": 4,
   "id": "673c12b3",
   "metadata": {},
   "outputs": [],
   "source": [
    "arr.insert(2,22)"
   ]
  },
  {
   "cell_type": "code",
   "execution_count": 5,
   "id": "193e5075",
   "metadata": {},
   "outputs": [
    {
     "data": {
      "text/plain": [
       "array('i', [1, 2, 22, 3, 4, 5, 6, 7, 7])"
      ]
     },
     "execution_count": 5,
     "metadata": {},
     "output_type": "execute_result"
    }
   ],
   "source": [
    "arr"
   ]
  },
  {
   "cell_type": "code",
   "execution_count": 6,
   "id": "2ee97067",
   "metadata": {},
   "outputs": [],
   "source": [
    "tempList = [1,33,123]\n",
    "arr.fromlist(tempList)"
   ]
  },
  {
   "cell_type": "code",
   "execution_count": 7,
   "id": "e168e398",
   "metadata": {},
   "outputs": [],
   "source": [
    "arr.remove(1)"
   ]
  },
  {
   "cell_type": "code",
   "execution_count": 8,
   "id": "042d883e",
   "metadata": {},
   "outputs": [],
   "source": [
    "arr.reverse()"
   ]
  },
  {
   "cell_type": "code",
   "execution_count": 9,
   "id": "668b2329",
   "metadata": {},
   "outputs": [
    {
     "data": {
      "text/plain": [
       "2"
      ]
     },
     "execution_count": 9,
     "metadata": {},
     "output_type": "execute_result"
    }
   ],
   "source": [
    "arr.count(7)"
   ]
  },
  {
   "cell_type": "markdown",
   "id": "bcbd4e48",
   "metadata": {},
   "source": [
    "Making 2-dimensional array"
   ]
  },
  {
   "cell_type": "code",
   "execution_count": 10,
   "id": "502a378b",
   "metadata": {},
   "outputs": [],
   "source": [
    "twoDarr = np.array([[1,2,3,4],[5,6,7,8]])"
   ]
  },
  {
   "cell_type": "markdown",
   "id": "24203594",
   "metadata": {},
   "source": [
    "Inserting to 2-d array"
   ]
  },
  {
   "cell_type": "code",
   "execution_count": 11,
   "id": "bf5a33f5",
   "metadata": {},
   "outputs": [
    {
     "ename": "ValueError",
     "evalue": "could not broadcast input array from shape (6,1) into shape (2,1)",
     "output_type": "error",
     "traceback": [
      "\u001b[1;31m---------------------------------------------------------------------------\u001b[0m",
      "\u001b[1;31mValueError\u001b[0m                                Traceback (most recent call last)",
      "Input \u001b[1;32mIn [11]\u001b[0m, in \u001b[0;36m<cell line: 1>\u001b[1;34m()\u001b[0m\n\u001b[1;32m----> 1\u001b[0m twoDarr \u001b[38;5;241m=\u001b[39m \u001b[43mnp\u001b[49m\u001b[38;5;241;43m.\u001b[39;49m\u001b[43minsert\u001b[49m\u001b[43m(\u001b[49m\u001b[43mtwoDarr\u001b[49m\u001b[43m,\u001b[49m\u001b[38;5;241;43m0\u001b[39;49m\u001b[43m,\u001b[49m\u001b[43m[\u001b[49m\u001b[43m[\u001b[49m\u001b[38;5;241;43m11\u001b[39;49m\u001b[43m,\u001b[49m\u001b[38;5;241;43m22\u001b[39;49m\u001b[43m,\u001b[49m\u001b[38;5;241;43m33\u001b[39;49m\u001b[43m,\u001b[49m\u001b[38;5;241;43m44\u001b[39;49m\u001b[43m,\u001b[49m\u001b[38;5;241;43m55\u001b[39;49m\u001b[43m,\u001b[49m\u001b[38;5;241;43m66\u001b[39;49m\u001b[43m]\u001b[49m\u001b[43m]\u001b[49m\u001b[43m,\u001b[49m\u001b[43maxis\u001b[49m\u001b[38;5;241;43m=\u001b[39;49m\u001b[38;5;241;43m1\u001b[39;49m\u001b[43m)\u001b[49m\n",
      "File \u001b[1;32m<__array_function__ internals>:5\u001b[0m, in \u001b[0;36minsert\u001b[1;34m(*args, **kwargs)\u001b[0m\n",
      "File \u001b[1;32m~\\anaconda3\\lib\\site-packages\\numpy\\lib\\function_base.py:4724\u001b[0m, in \u001b[0;36minsert\u001b[1;34m(arr, obj, values, axis)\u001b[0m\n\u001b[0;32m   4722\u001b[0m new[\u001b[38;5;28mtuple\u001b[39m(slobj)] \u001b[38;5;241m=\u001b[39m arr[\u001b[38;5;28mtuple\u001b[39m(slobj)]\n\u001b[0;32m   4723\u001b[0m slobj[axis] \u001b[38;5;241m=\u001b[39m \u001b[38;5;28mslice\u001b[39m(index, index\u001b[38;5;241m+\u001b[39mnumnew)\n\u001b[1;32m-> 4724\u001b[0m new[\u001b[38;5;28mtuple\u001b[39m(slobj)] \u001b[38;5;241m=\u001b[39m values\n\u001b[0;32m   4725\u001b[0m slobj[axis] \u001b[38;5;241m=\u001b[39m \u001b[38;5;28mslice\u001b[39m(index\u001b[38;5;241m+\u001b[39mnumnew, \u001b[38;5;28;01mNone\u001b[39;00m)\n\u001b[0;32m   4726\u001b[0m slobj2 \u001b[38;5;241m=\u001b[39m [\u001b[38;5;28mslice\u001b[39m(\u001b[38;5;28;01mNone\u001b[39;00m)] \u001b[38;5;241m*\u001b[39m ndim\n",
      "\u001b[1;31mValueError\u001b[0m: could not broadcast input array from shape (6,1) into shape (2,1)"
     ]
    }
   ],
   "source": [
    "twoDarr = np.insert(twoDarr,0,[[11,22,33,44,55,66]],axis=1)"
   ]
  },
  {
   "cell_type": "code",
   "execution_count": null,
   "id": "02a66f4d",
   "metadata": {},
   "outputs": [],
   "source": [
    "twoDarr[0]"
   ]
  },
  {
   "cell_type": "code",
   "execution_count": null,
   "id": "70fd7ca6",
   "metadata": {},
   "outputs": [],
   "source": [
    "def insert(inp,row,col,array):\n",
    "    if len(array)<row and col>len(array[0]):\n",
    "        print('Invalid insert')\n",
    "    else:\n",
    "        array[row][col] = inp\n",
    "        return array"
   ]
  },
  {
   "cell_type": "code",
   "execution_count": null,
   "id": "1f049937",
   "metadata": {},
   "outputs": [],
   "source": [
    "insert(12654,3,4,twoDarr)"
   ]
  },
  {
   "cell_type": "code",
   "execution_count": null,
   "id": "4fc1568b",
   "metadata": {},
   "outputs": [],
   "source": [
    "# Traversing the array"
   ]
  },
  {
   "cell_type": "code",
   "execution_count": null,
   "id": "22d984c6",
   "metadata": {},
   "outputs": [],
   "source": [
    "def traverse(array):\n",
    "    for i in range(len(array)):\n",
    "        for j in range(len(array[0])):\n",
    "            print(array[i][j])"
   ]
  },
  {
   "cell_type": "code",
   "execution_count": null,
   "id": "44a5d986",
   "metadata": {},
   "outputs": [],
   "source": [
    "traverse(twoDarr)"
   ]
  },
  {
   "cell_type": "code",
   "execution_count": null,
   "id": "48b087e2",
   "metadata": {},
   "outputs": [],
   "source": [
    "# Search element in array"
   ]
  },
  {
   "cell_type": "code",
   "execution_count": null,
   "id": "8c670843",
   "metadata": {},
   "outputs": [],
   "source": [
    "def search(array,value):\n",
    "    for i in range(len(array)):\n",
    "        for j in range(len(array[0])):\n",
    "            if array[i][j] == value:\n",
    "                return(i,j)\n",
    "    return \"the value not in array\""
   ]
  },
  {
   "cell_type": "code",
   "execution_count": null,
   "id": "a99e6665",
   "metadata": {},
   "outputs": [],
   "source": [
    "search(twoDarr,22)"
   ]
  },
  {
   "cell_type": "code",
   "execution_count": null,
   "id": "eefec8f4",
   "metadata": {},
   "outputs": [],
   "source": [
    "twoDarr = np.delete(twoDarr,0,axis=1)"
   ]
  },
  {
   "cell_type": "code",
   "execution_count": null,
   "id": "a64aa3c9",
   "metadata": {},
   "outputs": [],
   "source": [
    "twoDarr"
   ]
  },
  {
   "cell_type": "code",
   "execution_count": null,
   "id": "8c6d82f8",
   "metadata": {},
   "outputs": [],
   "source": [
    "z = [1,12,33,'f','eqw',123]\n",
    "z[3:0:-9]"
   ]
  },
  {
   "cell_type": "code",
   "execution_count": null,
   "id": "196e27f5",
   "metadata": {},
   "outputs": [],
   "source": [
    "# fruit_list1 = ['Apple', 'Berry', 'Cherry', 'Papaya']\n",
    "# fruit_list2 = fruit_list1\n",
    "# fruit_list3 = fruit_list1[:]\n",
    " \n",
    "# fruit_list2[0] = 'Guava'\n",
    "# fruit_list3[1] = 'Kiwi'\n",
    " \n",
    "# sum = 0\n",
    "# for ls in (fruit_list1, fruit_list2, fruit_list3):\n",
    "#     print(ls)\n",
    "#     if ls[0] == 'Guava':\n",
    "#         sum += 1\n",
    "#     if ls[1] == 'Kiwi':\n",
    "#         sum += 20"
   ]
  },
  {
   "cell_type": "code",
   "execution_count": null,
   "id": "cac8daa2",
   "metadata": {},
   "outputs": [],
   "source": [
    "data = [[[1, 2], [3, 4]], [[5, 6], [7, 8]]]\n",
    "def fun(m):\n",
    "    v = m[0][0]\n",
    "    print(v)\n",
    "    for row in m:\n",
    "        for element in row:\n",
    "            if v < element:\n",
    "                v = element\n",
    "                print(v)\n",
    " \n",
    "    return v\n",
    "print(fun(data[0]))"
   ]
  },
  {
   "cell_type": "code",
   "execution_count": null,
   "id": "6227fb97",
   "metadata": {},
   "outputs": [],
   "source": [
    "data[0]"
   ]
  },
  {
   "cell_type": "code",
   "execution_count": null,
   "id": "541b065d",
   "metadata": {},
   "outputs": [],
   "source": [
    "data[0][0]"
   ]
  },
  {
   "cell_type": "markdown",
   "id": "1267c895",
   "metadata": {},
   "source": [
    "# Find average temp and days above average\n",
    "- Input day temp = 21\n",
    "- Inp 2 day temp =11\n",
    "- Calc average\n",
    "-  Day above average"
   ]
  },
  {
   "cell_type": "code",
   "execution_count": null,
   "id": "ff1ec6ec",
   "metadata": {},
   "outputs": [],
   "source": [
    "temps = []\n",
    "while True:\n",
    "    tempDays = input(\"Enter temprature: \")\n",
    "    if tempDays == \"Done\":\n",
    "        break\n",
    "    else:\n",
    "        temps.append(int(tempDays))\n",
    "\n",
    "average = sum(temps)/len(temps)\n",
    "for i in temps:\n",
    "    if i>average:\n",
    "        aboveAvg=+1\n",
    "    \n",
    "print(\"The average temprature is\",average,\"and the total days above average temprature are\",aboveAvg)"
   ]
  },
  {
   "cell_type": "markdown",
   "id": "9e6498cb",
   "metadata": {},
   "source": [
    "Finding Missing Number from range of numbers"
   ]
  },
  {
   "cell_type": "code",
   "execution_count": null,
   "id": "d8761029",
   "metadata": {},
   "outputs": [],
   "source": [
    "def missingNo(numList,n):\n",
    "    sum1 = n*(n+1)/2\n",
    "    sum2 = sum(numList)\n",
    "    return sum1-sum2"
   ]
  },
  {
   "cell_type": "code",
   "execution_count": null,
   "id": "3fba39fe",
   "metadata": {},
   "outputs": [],
   "source": [
    "missingNo([1,3,4],4)"
   ]
  },
  {
   "cell_type": "markdown",
   "id": "d9ecc444",
   "metadata": {},
   "source": [
    "- LeetCode Question sum of numbers and Target"
   ]
  },
  {
   "cell_type": "code",
   "execution_count": null,
   "id": "0073b160",
   "metadata": {},
   "outputs": [],
   "source": [
    "numList = [3,2,4,5,1]\n",
    "target = 9\n",
    "def sumNumber(nums,target):\n",
    "    for i in range(len(num)):\n",
    "        for j in range(i):\n",
    "            if num[i]+num[j] == target:\n",
    "                print(i,j)"
   ]
  },
  {
   "cell_type": "code",
   "execution_count": null,
   "id": "8ee6f53e",
   "metadata": {},
   "outputs": [],
   "source": [
    "sumNumber(numList,target)"
   ]
  },
  {
   "cell_type": "code",
   "execution_count": null,
   "id": "fa112829",
   "metadata": {},
   "outputs": [],
   "source": [
    "def sumNumber3(nums,target):\n",
    "    for i in range(len(num)):\n",
    "        for j in range(i+1,len(num)):\n",
    "            if num[i]+num[j] == target:\n",
    "                print(i,j)"
   ]
  },
  {
   "cell_type": "code",
   "execution_count": null,
   "id": "9669ce46",
   "metadata": {},
   "outputs": [],
   "source": [
    "sumNumber(numList,target)"
   ]
  },
  {
   "cell_type": "code",
   "execution_count": null,
   "id": "05fd9005",
   "metadata": {},
   "outputs": [],
   "source": [
    "def sumNumber2(nums,target):\n",
    "    seen = {}\n",
    "    for idx,num in enumerate(nums):\n",
    "        remaining_value = target - num\n",
    "        if remaining_value in seen:\n",
    "            return seen[remaining_value],idx\n",
    "        seen[num]=idx"
   ]
  },
  {
   "cell_type": "code",
   "execution_count": null,
   "id": "5caa2c91",
   "metadata": {},
   "outputs": [],
   "source": [
    "sumNumber2(numList,target)"
   ]
  },
  {
   "cell_type": "markdown",
   "id": "a01e8b77",
   "metadata": {},
   "source": [
    "- Finding number from array"
   ]
  },
  {
   "cell_type": "code",
   "execution_count": null,
   "id": "2bf0a4f1",
   "metadata": {},
   "outputs": [],
   "source": [
    "arr = np.random.randint(3,9,(2,2))"
   ]
  },
  {
   "cell_type": "code",
   "execution_count": null,
   "id": "27dca4a1",
   "metadata": {},
   "outputs": [],
   "source": [
    "def traverse(array,value):\n",
    "    for i in range(len(array)):\n",
    "        for j in range(len(array[0])):\n",
    "            if array[i][j] == value:\n",
    "                print(i,j)"
   ]
  },
  {
   "cell_type": "code",
   "execution_count": null,
   "id": "9ddd13dc",
   "metadata": {},
   "outputs": [],
   "source": [
    "traverse(arr,9)"
   ]
  },
  {
   "cell_type": "code",
   "execution_count": null,
   "id": "4ccfbcff",
   "metadata": {},
   "outputs": [],
   "source": [
    "def maxProduct(array):\n",
    "    num = 0\n",
    "    for i in range(len(array)):\n",
    "        for j in range(len(array[0])):\n",
    "            if len(array)>j+1:\n",
    "                temp = array[i][j]*array[i][j+1]\n",
    "                if temp > num:\n",
    "                    num = temp\n",
    "                    pairs=(i,j)\n",
    "    return num,pairs"
   ]
  },
  {
   "cell_type": "code",
   "execution_count": null,
   "id": "38705d27",
   "metadata": {},
   "outputs": [],
   "source": [
    "maxProduct(arr)"
   ]
  },
  {
   "cell_type": "markdown",
   "id": "a30d131d",
   "metadata": {},
   "source": [
    "- Unique Elements in List"
   ]
  },
  {
   "cell_type": "code",
   "execution_count": 57,
   "id": "3b41598d",
   "metadata": {},
   "outputs": [],
   "source": [
    "def isUnique(numList):\n",
    "    a = []\n",
    "    for i in numList:\n",
    "        if i not in a:\n",
    "            a.append(i)\n",
    "    return a"
   ]
  },
  {
   "cell_type": "code",
   "execution_count": 58,
   "id": "106ac388",
   "metadata": {},
   "outputs": [
    {
     "data": {
      "text/plain": [
       "[1, 2, 3]"
      ]
     },
     "execution_count": 58,
     "metadata": {},
     "output_type": "execute_result"
    }
   ],
   "source": [
    "dupNumber = [1,2,3,1,1,3,2,2,2,1,2,2]\n",
    "isUnique(dupNumber)"
   ]
  },
  {
   "cell_type": "markdown",
   "id": "1e9fc75d",
   "metadata": {},
   "source": [
    "- Permutation"
   ]
  },
  {
   "cell_type": "code",
   "execution_count": 60,
   "id": "b30d9c52",
   "metadata": {},
   "outputs": [],
   "source": [
    "l1 = [3,2,5,4]\n",
    "l2 = [5,4,3,2]\n",
    "def permutation(list1,list2):\n",
    "    if len(list1)!= len(list2):\n",
    "        return \"Invalid\"\n",
    "    else:\n",
    "        list1.sort()\n",
    "        list2.sort()\n",
    "        if list1==list2:\n",
    "            return True\n",
    "        else:\n",
    "            return False"
   ]
  },
  {
   "cell_type": "code",
   "execution_count": 61,
   "id": "760da5c5",
   "metadata": {},
   "outputs": [
    {
     "data": {
      "text/plain": [
       "True"
      ]
     },
     "execution_count": 61,
     "metadata": {},
     "output_type": "execute_result"
    }
   ],
   "source": [
    "permutation(l1,l2)"
   ]
  },
  {
   "cell_type": "markdown",
   "id": "2fe70202",
   "metadata": {},
   "source": [
    "- Rotate 2d Matrix"
   ]
  },
  {
   "cell_type": "code",
   "execution_count": 299,
   "id": "ce6336b5",
   "metadata": {},
   "outputs": [
    {
     "data": {
      "text/plain": [
       "array([[ 4,  1, 40],\n",
       "       [46, 21, 46],\n",
       "       [48, 15, 12],\n",
       "       [28, 30, 35]])"
      ]
     },
     "execution_count": 299,
     "metadata": {},
     "output_type": "execute_result"
    }
   ],
   "source": [
    "# matrix2d = np.random.randint(1,50,(4,3))\n",
    "mn = np.copy(matrix2d)\n",
    "mn"
   ]
  },
  {
   "cell_type": "code",
   "execution_count": 300,
   "id": "60d61578",
   "metadata": {},
   "outputs": [
    {
     "name": "stdout",
     "output_type": "stream",
     "text": [
      "[[28 48 46]\n",
      " [35 21  1]\n",
      " [30 15  4]\n",
      " [12 46 40]]\n"
     ]
    }
   ],
   "source": [
    "n = len(matrix2d) # 3\n",
    "for layer in range(n//2):\n",
    "    first = layer # 0\n",
    "    last = n - layer - 1 # 3-0-1 = 2\n",
    "#     print(first,last)\n",
    "    for i in range(first,last): #(0,2)\n",
    "        # top element\n",
    "        top = matrix2d[layer][i] # 1st  m[0][0] 16 , 2nd  m[0][1] 10\n",
    "        # move left element to top\n",
    "        matrix2d[layer][i] = matrix2d[-i-1][layer] # m[0][0] 16 = m[-1][0] 5, m[0][1] 10 = m[-2][0] 41\n",
    "        # bottom left to up\n",
    "        matrix2d[-i-1][layer] = matrix2d[-layer-1][-i-1] # m[-1][-1] 43 , m[-1][-2] 25\n",
    "        # right to bottom\n",
    "        matrix2d[-layer-1][-i-1] = matrix2d[i][-layer-1] # m[-1][-1] 43 = m[0][-1] 32\n",
    "        # move to right\n",
    "        matrix2d[i][-layer-1] = top\n",
    "print(matrix2d)"
   ]
  },
  {
   "cell_type": "code",
   "execution_count": 252,
   "id": "29ae74cc",
   "metadata": {},
   "outputs": [
    {
     "data": {
      "text/plain": [
       "array([[16, 10, 32],\n",
       "       [41,  9, 15],\n",
       "       [ 5, 25, 43]])"
      ]
     },
     "execution_count": 252,
     "metadata": {},
     "output_type": "execute_result"
    }
   ],
   "source": [
    "m"
   ]
  },
  {
   "cell_type": "code",
   "execution_count": 343,
   "id": "0c0ab798",
   "metadata": {},
   "outputs": [
    {
     "name": "stdout",
     "output_type": "stream",
     "text": [
      "Enter number of rows : 3\n",
      "Enter number of Columns : 3\n",
      "Enter number at position [0][0] in matrix 1\n",
      "Enter number at position [0][1] in matrix 2\n",
      "Enter number at position [0][2] in matrix 3\n",
      "Enter number at position [1][0] in matrix 4\n",
      "Enter number at position [1][1] in matrix 5\n",
      "Enter number at position [1][2] in matrix 6\n",
      "Enter number at position [2][0] in matrix 7\n",
      "Enter number at position [2][1] in matrix 8\n",
      "Enter number at position [2][2] in matrix 9\n"
     ]
    }
   ],
   "source": [
    "m = int(input(\"Enter number of rows : \"))\n",
    "n = int(input(\"Enter number of Columns : \"))\n",
    "matrix = []\n",
    "for i in range(m):\n",
    "    row = []\n",
    "    for j in range(n):\n",
    "        j = int(input(\"Enter number at position [\"+str(i)+\"][\"+str(j)+\"] in matrix \"))\n",
    "        row.append(j)\n",
    "    matrix.append(row)\n",
    "arrMat = np.array(matrix)"
   ]
  },
  {
   "cell_type": "code",
   "execution_count": 352,
   "id": "712b6fdd",
   "metadata": {},
   "outputs": [
    {
     "name": "stdout",
     "output_type": "stream",
     "text": [
      "7 4 1 \n",
      "8 5 2 \n",
      "9 6 3 \n"
     ]
    }
   ],
   "source": [
    "new = []\n",
    "for i in range(len(arrMat)):\n",
    "    a = []\n",
    "    for j in range(len(arrMat[0])):\n",
    "        a.append(arrMat[j][i]) # coulmn and row like 00,10,20,01,11,21,\n",
    "    new.append(a)\n",
    "for i in range(len(new)):\n",
    "    for b in range(len(new[0])-1,-1,-1):\n",
    "        print(new[i][b],end=\" \")\n",
    "    print()"
   ]
  },
  {
   "cell_type": "code",
   "execution_count": 354,
   "id": "3cdbf813",
   "metadata": {},
   "outputs": [
    {
     "data": {
      "text/plain": [
       "[[1, 4, 7], [2, 5, 8], [3, 6, 9]]"
      ]
     },
     "execution_count": 354,
     "metadata": {},
     "output_type": "execute_result"
    }
   ],
   "source": [
    "new"
   ]
  },
  {
   "cell_type": "code",
   "execution_count": null,
   "id": "a835c33a",
   "metadata": {},
   "outputs": [],
   "source": []
  },
  {
   "cell_type": "code",
   "execution_count": null,
   "id": "def5c7ae",
   "metadata": {},
   "outputs": [],
   "source": []
  }
 ],
 "metadata": {
  "kernelspec": {
   "display_name": "Python 3 (ipykernel)",
   "language": "python",
   "name": "python3"
  },
  "language_info": {
   "codemirror_mode": {
    "name": "ipython",
    "version": 3
   },
   "file_extension": ".py",
   "mimetype": "text/x-python",
   "name": "python",
   "nbconvert_exporter": "python",
   "pygments_lexer": "ipython3",
   "version": "3.9.13"
  }
 },
 "nbformat": 4,
 "nbformat_minor": 5
}
