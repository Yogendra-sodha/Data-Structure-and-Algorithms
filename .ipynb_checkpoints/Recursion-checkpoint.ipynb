{
 "cells": [
  {
   "cell_type": "code",
   "execution_count": 1,
   "id": "f34c1832",
   "metadata": {},
   "outputs": [],
   "source": [
    "import random"
   ]
  },
  {
   "cell_type": "markdown",
   "id": "7f783bdb",
   "metadata": {},
   "source": [
    "Recursion of fibannaci sequence"
   ]
  },
  {
   "cell_type": "code",
   "execution_count": 21,
   "id": "8dd5c54e",
   "metadata": {},
   "outputs": [],
   "source": [
    "def fib(n):\n",
    "    assert n>=1 and int(n)== n, \"number must be positive\"\n",
    "    if n in [0,1]:\n",
    "        return 1\n",
    "    else:\n",
    "        return n * fib(n-1)"
   ]
  },
  {
   "cell_type": "code",
   "execution_count": 40,
   "id": "985f414d",
   "metadata": {},
   "outputs": [
    {
     "data": {
      "text/plain": [
       "6"
      ]
     },
     "execution_count": 40,
     "metadata": {},
     "output_type": "execute_result"
    }
   ],
   "source": [
    "fib(3)"
   ]
  },
  {
   "cell_type": "code",
   "execution_count": 38,
   "id": "3b2f3231",
   "metadata": {},
   "outputs": [],
   "source": [
    "def fibseries(n):\n",
    "    assert n>=0 and int(n) == n, \"the number must be positive and more than 1\"\n",
    "    if n in [0,1]:\n",
    "        return n\n",
    "    else:\n",
    "        return fibseries(n-1) + fibseries(n-2)"
   ]
  },
  {
   "cell_type": "code",
   "execution_count": 115,
   "id": "4d00b61b",
   "metadata": {},
   "outputs": [
    {
     "data": {
      "text/plain": [
       "3"
      ]
     },
     "execution_count": 115,
     "metadata": {},
     "output_type": "execute_result"
    }
   ],
   "source": [
    "fibseries(4)"
   ]
  },
  {
   "cell_type": "markdown",
   "id": "8a799b67",
   "metadata": {},
   "source": [
    "Sum of Digits"
   ]
  },
  {
   "cell_type": "code",
   "execution_count": 6,
   "id": "2e5e02a8",
   "metadata": {},
   "outputs": [],
   "source": [
    "def sumofDigits(n:int):\n",
    "    assert n>=0, 'n should positive integer'\n",
    "    if n == 0:\n",
    "        return 0\n",
    "    else :\n",
    "        return int(n%10) + sumofDigits(int(n/10)) #int(4/10=0.4)=0) int conversion will make 0.4 to 0"
   ]
  },
  {
   "cell_type": "markdown",
   "id": "6e94264b",
   "metadata": {},
   "source": [
    "Generating Test Case"
   ]
  },
  {
   "cell_type": "code",
   "execution_count": 7,
   "id": "84820b06",
   "metadata": {},
   "outputs": [],
   "source": [
    "testCase = [random.randint(0,1000) for i in range (0,10)]"
   ]
  },
  {
   "cell_type": "code",
   "execution_count": 8,
   "id": "9c828722",
   "metadata": {},
   "outputs": [
    {
     "data": {
      "text/plain": [
       "[606, 191, 347, 651, 968, 452, 553, 101, 717, 178]"
      ]
     },
     "execution_count": 8,
     "metadata": {},
     "output_type": "execute_result"
    }
   ],
   "source": [
    "testCase"
   ]
  },
  {
   "cell_type": "code",
   "execution_count": 9,
   "id": "e26176d4",
   "metadata": {},
   "outputs": [],
   "source": [
    "sumtestCase = [sumofDigits(i) for i in testCase]"
   ]
  },
  {
   "cell_type": "code",
   "execution_count": 10,
   "id": "796ea4d5",
   "metadata": {},
   "outputs": [
    {
     "data": {
      "text/plain": [
       "[12, 11, 14, 12, 23, 11, 13, 2, 15, 16]"
      ]
     },
     "execution_count": 10,
     "metadata": {},
     "output_type": "execute_result"
    }
   ],
   "source": [
    "sumtestCase"
   ]
  },
  {
   "cell_type": "markdown",
   "id": "8078b7d5",
   "metadata": {},
   "source": [
    "## Power of number"
   ]
  },
  {
   "cell_type": "markdown",
   "id": "f22b9c72",
   "metadata": {},
   "source": [
    "m^n = m*m*m*(n times)\n",
    "\n",
    "\n",
    "Step :1 - Find the recursive case flow\n",
    "\n",
    "\n",
    "2^4 = 2*2*2*2\n",
    "\n",
    "\n",
    "2^3 * 2^2 * 2^1 = 2^4 === (2 * 2^(n-1))\n",
    "\n",
    "\n",
    "Step 2 : Base case stopping Condition\n",
    "n=0"
   ]
  },
  {
   "cell_type": "code",
   "execution_count": 68,
   "id": "a56c1963",
   "metadata": {},
   "outputs": [],
   "source": [
    "def power(m,n):\n",
    "    assert int(n)==n,'n should integer'\n",
    "    if n == 0:\n",
    "        return 1\n",
    "    elif n<0:\n",
    "        return 1/(m*power(m,n+1))\n",
    "    return m * power(m,n-1)"
   ]
  },
  {
   "cell_type": "code",
   "execution_count": 69,
   "id": "2b62a06e",
   "metadata": {},
   "outputs": [
    {
     "data": {
      "text/plain": [
       "0.5"
      ]
     },
     "execution_count": 69,
     "metadata": {},
     "output_type": "execute_result"
    }
   ],
   "source": [
    "power(2,-3)"
   ]
  },
  {
   "cell_type": "code",
   "execution_count": 70,
   "id": "9da3adf0",
   "metadata": {},
   "outputs": [],
   "source": [
    "testCase = [(random.randint(0,1000),random.randint(1,9)) for i in range (0,10)]"
   ]
  },
  {
   "cell_type": "code",
   "execution_count": 71,
   "id": "cb47c8b0",
   "metadata": {},
   "outputs": [],
   "source": [
    "powerTestCase = [power(testCase[i][0],testCase[i][1]) for i in range(len(testCase))]"
   ]
  },
  {
   "cell_type": "code",
   "execution_count": 72,
   "id": "4069d497",
   "metadata": {},
   "outputs": [
    {
     "data": {
      "text/plain": [
       "[61839296351031571325771264,\n",
       " 38863141861967424,\n",
       " 5661610866627712,\n",
       " 445541565121,\n",
       " 412164,\n",
       " 9002100662959250390625,\n",
       " 147606223725464190976,\n",
       " 256,\n",
       " 2375680873491867011912191,\n",
       " 13021612539908538853]"
      ]
     },
     "execution_count": 72,
     "metadata": {},
     "output_type": "execute_result"
    }
   ],
   "source": [
    "powerTestCase"
   ]
  },
  {
   "cell_type": "code",
   "execution_count": 73,
   "id": "0a2e621f",
   "metadata": {},
   "outputs": [],
   "source": [
    "# Greatest Common Divisior"
   ]
  },
  {
   "cell_type": "code",
   "execution_count": 74,
   "id": "18b43430",
   "metadata": {},
   "outputs": [],
   "source": [
    "def gcd(a,b):\n",
    "    assert int(b)==b and int(a)==a, \"a and b should be integer\"\n",
    "    if a <0:\n",
    "        a = -1 *a\n",
    "    if b < 0 :\n",
    "        b = -1 *b\n",
    "    if b == 0:\n",
    "        return a\n",
    "    return gcd(b,a%b)"
   ]
  },
  {
   "cell_type": "code",
   "execution_count": 85,
   "id": "feb3817c",
   "metadata": {},
   "outputs": [
    {
     "data": {
      "text/plain": [
       "2"
      ]
     },
     "execution_count": 85,
     "metadata": {},
     "output_type": "execute_result"
    }
   ],
   "source": [
    "gcd(4,10)"
   ]
  },
  {
   "cell_type": "code",
   "execution_count": 9,
   "id": "e0d858ab",
   "metadata": {},
   "outputs": [],
   "source": [
    "def binaryConversion(n):\n",
    "    if n == 0:\n",
    "        return 0\n",
    "    else:\n",
    "        return n%2 + 10 * binaryConversion(int(n/2))"
   ]
  },
  {
   "cell_type": "code",
   "execution_count": 10,
   "id": "a02d529d",
   "metadata": {},
   "outputs": [
    {
     "data": {
      "text/plain": [
       "1010"
      ]
     },
     "execution_count": 10,
     "metadata": {},
     "output_type": "execute_result"
    }
   ],
   "source": [
    "binaryConversion(10)"
   ]
  },
  {
   "cell_type": "code",
   "execution_count": 238,
   "id": "5a12a554",
   "metadata": {},
   "outputs": [],
   "source": [
    "obj2 = {\n",
    "  \"a\": 2,\n",
    "  \"b\": {\"b\": 2, \"bb\": {\"b\": 3, \"bb\": {\"b\": 2}}},\n",
    "  \"c\": {\"c\": {\"c\": 2}, \"cc\": 'ball', \"ccc\": 5},\n",
    "  \"d\": 1,\n",
    "  \"e\": {\"e\": {\"e\": 2}, \"ee\": 'car'}\n",
    "}"
   ]
  },
  {
   "cell_type": "markdown",
   "id": "ef3644e6",
   "metadata": {},
   "source": [
    "Nested Even Sum"
   ]
  },
  {
   "cell_type": "code",
   "execution_count": 242,
   "id": "c5396ef3",
   "metadata": {},
   "outputs": [],
   "source": [
    "def nestedEvenSum(obj,sum=0):\n",
    "    for i in obj:\n",
    "        if type(obj[i]) is dict:\n",
    "            sum =sum+flat(obj[i])\n",
    "        elif type(obj[i])== int and obj[i]%2 ==0:\n",
    "            sum+=obj[i]\n",
    "    return sum"
   ]
  },
  {
   "cell_type": "code",
   "execution_count": 243,
   "id": "dadd11b8",
   "metadata": {},
   "outputs": [
    {
     "data": {
      "text/plain": [
       "10"
      ]
     },
     "execution_count": 243,
     "metadata": {},
     "output_type": "execute_result"
    }
   ],
   "source": [
    "nestedEvenSum(obj2)"
   ]
  }
 ],
 "metadata": {
  "kernelspec": {
   "display_name": "Python 3 (ipykernel)",
   "language": "python",
   "name": "python3"
  },
  "language_info": {
   "codemirror_mode": {
    "name": "ipython",
    "version": 3
   },
   "file_extension": ".py",
   "mimetype": "text/x-python",
   "name": "python",
   "nbconvert_exporter": "python",
   "pygments_lexer": "ipython3",
   "version": "3.9.13"
  }
 },
 "nbformat": 4,
 "nbformat_minor": 5
}
