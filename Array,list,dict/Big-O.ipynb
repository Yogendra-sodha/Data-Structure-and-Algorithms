{
 "cells": [
  {
   "cell_type": "code",
   "execution_count": 1,
   "id": "73be515b",
   "metadata": {},
   "outputs": [
    {
     "name": "stdout",
     "output_type": "stream",
     "text": [
      "1 2\n",
      "1 3\n",
      "2 3\n"
     ]
    }
   ],
   "source": [
    "array = [1,2,3]\n",
    "for i in range(0,len(array)):\n",
    "    for j in range(i+1,len(array)):\n",
    "        print(array[i],array[j])"
   ]
  },
  {
   "cell_type": "code",
   "execution_count": 15,
   "id": "c3c0c10d",
   "metadata": {},
   "outputs": [],
   "source": [
    "\n",
    "def reverse(array):\n",
    "    for i in range(0,int(len(array)/2)):\n",
    "        other = len(array)-i-1 # 4,5, \n",
    "        temp = array[i]\n",
    "        print(array[i],i)\n",
    "        array[i] = array[other]\n",
    "        print(array[i],i,array[other])\n",
    "        array[other] = temp\n",
    "        print(temp,i)\n",
    "    print(array)"
   ]
  },
  {
   "cell_type": "code",
   "execution_count": 16,
   "id": "cfa11479",
   "metadata": {},
   "outputs": [
    {
     "name": "stdout",
     "output_type": "stream",
     "text": [
      "1 0\n",
      "5 0 5\n",
      "1 0\n",
      "2 1\n",
      "4 1 4\n",
      "2 1\n",
      "[5, 4, 3, 2, 1]\n"
     ]
    }
   ],
   "source": [
    "reverse(array)"
   ]
  },
  {
   "cell_type": "code",
   "execution_count": 24,
   "id": "db42d627",
   "metadata": {},
   "outputs": [],
   "source": [
    "def reverse(array):\n",
    "    for i in range(0,int(len(array)/2)):\n",
    "        other = len(array)-i-1\n",
    "        temp = array[i]\n",
    "        array[i] = array[other]\n",
    "        array[other]=temp\n",
    "    print(array)"
   ]
  },
  {
   "cell_type": "code",
   "execution_count": 25,
   "id": "ef4913fb",
   "metadata": {},
   "outputs": [
    {
     "name": "stdout",
     "output_type": "stream",
     "text": [
      "[5, 4, 3, 2, 1]\n"
     ]
    }
   ],
   "source": [
    "array = [1,2,3,4,5]\n",
    "reverse(array)"
   ]
  },
  {
   "cell_type": "code",
   "execution_count": null,
   "id": "78e190b8",
   "metadata": {},
   "outputs": [],
   "source": []
  }
 ],
 "metadata": {
  "kernelspec": {
   "display_name": "Python 3 (ipykernel)",
   "language": "python",
   "name": "python3"
  },
  "language_info": {
   "codemirror_mode": {
    "name": "ipython",
    "version": 3
   },
   "file_extension": ".py",
   "mimetype": "text/x-python",
   "name": "python",
   "nbconvert_exporter": "python",
   "pygments_lexer": "ipython3",
   "version": "3.9.13"
  }
 },
 "nbformat": 4,
 "nbformat_minor": 5
}
