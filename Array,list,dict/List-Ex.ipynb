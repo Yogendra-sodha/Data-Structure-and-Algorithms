{
 "cells": [
  {
   "cell_type": "code",
   "execution_count": 53,
   "id": "ab7606bb",
   "metadata": {},
   "outputs": [],
   "source": [
    "def sumDiagonal(a):\n",
    "    # TODO\n",
    "    sumDiag = 0\n",
    "    for i in range(len(a)):\n",
    "        for j in range(len(a[i])):\n",
    "            if i == j:\n",
    "#                 print(i,j)\n",
    "                sumDiag +=a[i][j]\n",
    "#                 print(sumDiag)\n",
    "    return sumDiag"
   ]
  },
  {
   "cell_type": "markdown",
   "id": "d5f48074",
   "metadata": {},
   "source": [
    "- 2nd Approach"
   ]
  },
  {
   "cell_type": "code",
   "execution_count": 54,
   "id": "7fb02a4a",
   "metadata": {},
   "outputs": [],
   "source": [
    "def sumDiag(lst):\n",
    "    sumDia = 0\n",
    "    for i in range(len(lst)):\n",
    "        sumDia +=lst[i][i]\n",
    "    return sumDia"
   ]
  },
  {
   "cell_type": "code",
   "execution_count": 55,
   "id": "4121815c",
   "metadata": {},
   "outputs": [
    {
     "data": {
      "text/plain": [
       "15"
      ]
     },
     "execution_count": 55,
     "metadata": {},
     "output_type": "execute_result"
    }
   ],
   "source": [
    "sumDiagonal(lst)"
   ]
  },
  {
   "cell_type": "code",
   "execution_count": 75,
   "id": "0c131a5d",
   "metadata": {},
   "outputs": [],
   "source": [
    "Number = [84,85,86,87,85,90,85,83,23,45,84,1,2,0]"
   ]
  },
  {
   "cell_type": "code",
   "execution_count": 72,
   "id": "f55d9a9f",
   "metadata": {},
   "outputs": [],
   "source": [
    "def firstTwo(lst):\n",
    "    sort = []\n",
    "    while lst:\n",
    "        max = lst[0]\n",
    "        for i in lst:\n",
    "            if i>max:\n",
    "                max = i\n",
    "        sort.append(max)\n",
    "        lst.remove(max)\n",
    "    return sort[:2]"
   ]
  },
  {
   "cell_type": "code",
   "execution_count": 73,
   "id": "02a909cd",
   "metadata": {},
   "outputs": [
    {
     "data": {
      "text/plain": [
       "[90, 87]"
      ]
     },
     "execution_count": 73,
     "metadata": {},
     "output_type": "execute_result"
    }
   ],
   "source": [
    "firstTwo(Number)"
   ]
  },
  {
   "cell_type": "code",
   "execution_count": null,
   "id": "692531ed",
   "metadata": {},
   "outputs": [],
   "source": [
    "def missingNumber(numList,totalNums):\n",
    "    sumNum = totalNums *((totalNums)+1)/2)\n",
    "    "
   ]
  },
  {
   "cell_type": "code",
   "execution_count": 159,
   "id": "6976dd34",
   "metadata": {},
   "outputs": [],
   "source": [
    "a = [1, 1, 2, 2, 3, 4, 5,5,5,5,5,5,1]\n",
    "b = []\n",
    "for i in a:\n",
    "    if i not in b:\n",
    "        b.append(i)"
   ]
  },
  {
   "cell_type": "code",
   "execution_count": 181,
   "id": "6948d7bf",
   "metadata": {},
   "outputs": [],
   "source": [
    "def pairSum(myList, sum1):\n",
    "    # TODO\n",
    "    a = []\n",
    "    for i in range(len(myList)):\n",
    "        for j in (myList[i+1:]):\n",
    "            if myList[i] + j == sum1:\n",
    "                a.append(str(myList[i])+\"+\"+str(j))\n",
    "    return a"
   ]
  },
  {
   "cell_type": "code",
   "execution_count": 182,
   "id": "615f926a",
   "metadata": {},
   "outputs": [
    {
     "data": {
      "text/plain": [
       "['2+5', '4+3', '3+4', '-2+9']"
      ]
     },
     "execution_count": 182,
     "metadata": {},
     "output_type": "execute_result"
    }
   ],
   "source": [
    "pairSum([2, 4, 3, 5, 6, -2, 4, 7, 8, 9],7)"
   ]
  },
  {
   "cell_type": "code",
   "execution_count": 183,
   "id": "a98425e1",
   "metadata": {},
   "outputs": [],
   "source": [
    "Output = ['2+5', '4+3', '3+4', '-2+9']"
   ]
  },
  {
   "cell_type": "markdown",
   "id": "c09f97fc",
   "metadata": {},
   "source": [
    "- Tuple"
   ]
  },
  {
   "cell_type": "code",
   "execution_count": 5,
   "id": "2497d380",
   "metadata": {},
   "outputs": [
    {
     "name": "stdout",
     "output_type": "stream",
     "text": [
      "3\n"
     ]
    }
   ],
   "source": [
    "init_tuple = [(0, 1), (1, 2), (2, 3)]\n",
    " \n",
    "a = sum(_ for _, n in init_tuple)\n",
    "print(a)"
   ]
  }
 ],
 "metadata": {
  "kernelspec": {
   "display_name": "base",
   "language": "python",
   "name": "python3"
  },
  "language_info": {
   "codemirror_mode": {
    "name": "ipython",
    "version": 3
   },
   "file_extension": ".py",
   "mimetype": "text/x-python",
   "name": "python",
   "nbconvert_exporter": "python",
   "pygments_lexer": "ipython3",
   "version": "3.9.13 (main, Aug 25 2022, 23:51:50) [MSC v.1916 64 bit (AMD64)]"
  },
  "vscode": {
   "interpreter": {
    "hash": "7afb12e1b6cb2fe508d82782f58465475fd08bfa77006d3d9b199bbdaa03ee6b"
   }
  }
 },
 "nbformat": 4,
 "nbformat_minor": 5
}
