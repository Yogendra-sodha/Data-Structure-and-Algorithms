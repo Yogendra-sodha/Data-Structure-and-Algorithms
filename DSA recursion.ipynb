{
 "cells": [
  {
   "cell_type": "markdown",
   "id": "7f783bdb",
   "metadata": {},
   "source": [
    "Recursion of fibannaci sequence"
   ]
  },
  {
   "cell_type": "code",
   "execution_count": 23,
   "id": "4f06c948",
   "metadata": {},
   "outputs": [],
   "source": [
    "def fib(n):\n",
    "    assert n>=1 and int(n)== n, \"number must be positive\"\n",
    "    if n in [0,1]:\n",
    "        return 1\n",
    "    else:\n",
    "#         print(n)\n",
    "        return n * fib(n-1)"
   ]
  },
  {
   "cell_type": "code",
   "execution_count": 24,
   "id": "985f414d",
   "metadata": {},
   "outputs": [],
   "source": [
    "# fib(3)"
   ]
  },
  {
   "cell_type": "code",
   "execution_count": 27,
   "id": "3b2f3231",
   "metadata": {},
   "outputs": [],
   "source": [
    "def fibseries(n):\n",
    "    assert n>=1 and int(n) == n, \"the number must be positive and more than 1\"\n",
    "    if n in [0,1]:\n",
    "        return n\n",
    "    else:\n",
    "        print(n)\n",
    "        return fibseries(n-1) + fibseries(n-2)"
   ]
  },
  {
   "cell_type": "code",
   "execution_count": 28,
   "id": "4d00b61b",
   "metadata": {},
   "outputs": [
    {
     "name": "stdout",
     "output_type": "stream",
     "text": [
      "6\n",
      "5\n",
      "4\n",
      "3\n",
      "2\n"
     ]
    },
    {
     "ename": "AssertionError",
     "evalue": "the number must be positive and more than 1",
     "output_type": "error",
     "traceback": [
      "\u001b[1;31m---------------------------------------------------------------------------\u001b[0m",
      "\u001b[1;31mAssertionError\u001b[0m                            Traceback (most recent call last)",
      "Input \u001b[1;32mIn [28]\u001b[0m, in \u001b[0;36m<cell line: 1>\u001b[1;34m()\u001b[0m\n\u001b[1;32m----> 1\u001b[0m \u001b[43mfibseries\u001b[49m\u001b[43m(\u001b[49m\u001b[38;5;241;43m6\u001b[39;49m\u001b[43m)\u001b[49m\n",
      "Input \u001b[1;32mIn [27]\u001b[0m, in \u001b[0;36mfibseries\u001b[1;34m(n)\u001b[0m\n\u001b[0;32m      5\u001b[0m \u001b[38;5;28;01melse\u001b[39;00m:\n\u001b[0;32m      6\u001b[0m     \u001b[38;5;28mprint\u001b[39m(n)\n\u001b[1;32m----> 7\u001b[0m     \u001b[38;5;28;01mreturn\u001b[39;00m \u001b[43mfibseries\u001b[49m\u001b[43m(\u001b[49m\u001b[43mn\u001b[49m\u001b[38;5;241;43m-\u001b[39;49m\u001b[38;5;241;43m1\u001b[39;49m\u001b[43m)\u001b[49m \u001b[38;5;241m+\u001b[39m fibseries(n\u001b[38;5;241m-\u001b[39m\u001b[38;5;241m2\u001b[39m)\n",
      "Input \u001b[1;32mIn [27]\u001b[0m, in \u001b[0;36mfibseries\u001b[1;34m(n)\u001b[0m\n\u001b[0;32m      5\u001b[0m \u001b[38;5;28;01melse\u001b[39;00m:\n\u001b[0;32m      6\u001b[0m     \u001b[38;5;28mprint\u001b[39m(n)\n\u001b[1;32m----> 7\u001b[0m     \u001b[38;5;28;01mreturn\u001b[39;00m \u001b[43mfibseries\u001b[49m\u001b[43m(\u001b[49m\u001b[43mn\u001b[49m\u001b[38;5;241;43m-\u001b[39;49m\u001b[38;5;241;43m1\u001b[39;49m\u001b[43m)\u001b[49m \u001b[38;5;241m+\u001b[39m fibseries(n\u001b[38;5;241m-\u001b[39m\u001b[38;5;241m2\u001b[39m)\n",
      "    \u001b[1;31m[... skipping similar frames: fibseries at line 7 (2 times)]\u001b[0m\n",
      "Input \u001b[1;32mIn [27]\u001b[0m, in \u001b[0;36mfibseries\u001b[1;34m(n)\u001b[0m\n\u001b[0;32m      5\u001b[0m \u001b[38;5;28;01melse\u001b[39;00m:\n\u001b[0;32m      6\u001b[0m     \u001b[38;5;28mprint\u001b[39m(n)\n\u001b[1;32m----> 7\u001b[0m     \u001b[38;5;28;01mreturn\u001b[39;00m fibseries(n\u001b[38;5;241m-\u001b[39m\u001b[38;5;241m1\u001b[39m) \u001b[38;5;241m+\u001b[39m \u001b[43mfibseries\u001b[49m\u001b[43m(\u001b[49m\u001b[43mn\u001b[49m\u001b[38;5;241;43m-\u001b[39;49m\u001b[38;5;241;43m2\u001b[39;49m\u001b[43m)\u001b[49m\n",
      "Input \u001b[1;32mIn [27]\u001b[0m, in \u001b[0;36mfibseries\u001b[1;34m(n)\u001b[0m\n\u001b[0;32m      1\u001b[0m \u001b[38;5;28;01mdef\u001b[39;00m \u001b[38;5;21mfibseries\u001b[39m(n):\n\u001b[1;32m----> 2\u001b[0m     \u001b[38;5;28;01massert\u001b[39;00m n\u001b[38;5;241m>\u001b[39m\u001b[38;5;241m=\u001b[39m\u001b[38;5;241m1\u001b[39m \u001b[38;5;129;01mand\u001b[39;00m \u001b[38;5;28mint\u001b[39m(n) \u001b[38;5;241m==\u001b[39m n, \u001b[38;5;124m\"\u001b[39m\u001b[38;5;124mthe number must be positive and more than 1\u001b[39m\u001b[38;5;124m\"\u001b[39m\n\u001b[0;32m      3\u001b[0m     \u001b[38;5;28;01mif\u001b[39;00m n \u001b[38;5;129;01min\u001b[39;00m [\u001b[38;5;241m0\u001b[39m,\u001b[38;5;241m1\u001b[39m]:\n\u001b[0;32m      4\u001b[0m         \u001b[38;5;28;01mreturn\u001b[39;00m n\n",
      "\u001b[1;31mAssertionError\u001b[0m: the number must be positive and more than 1"
     ]
    }
   ],
   "source": [
    "fibseries(6)"
   ]
  },
  {
   "cell_type": "code",
   "execution_count": null,
   "id": "b74cc883",
   "metadata": {},
   "outputs": [],
   "source": []
  }
 ],
 "metadata": {
  "kernelspec": {
   "display_name": "Python 3 (ipykernel)",
   "language": "python",
   "name": "python3"
  },
  "language_info": {
   "codemirror_mode": {
    "name": "ipython",
    "version": 3
   },
   "file_extension": ".py",
   "mimetype": "text/x-python",
   "name": "python",
   "nbconvert_exporter": "python",
   "pygments_lexer": "ipython3",
   "version": "3.9.13"
  }
 },
 "nbformat": 4,
 "nbformat_minor": 5
}
