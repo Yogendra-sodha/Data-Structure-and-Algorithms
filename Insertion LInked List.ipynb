{
 "cells": [
  {
   "cell_type": "code",
   "execution_count": 22,
   "id": "a74dabcc",
   "metadata": {},
   "outputs": [],
   "source": [
    "class Node:\n",
    "    def __init__(self,value=None):\n",
    "        self.value = value\n",
    "        self.next = None\n",
    "class SlinkedList:\n",
    "    def __init__(self):\n",
    "        self.head = None\n",
    "        self.tail = None\n",
    "    def __iter__(self):\n",
    "        node = self.head\n",
    "        while node:\n",
    "            yield node\n",
    "            node = node.next       \n",
    "    def insert(self,value,location):\n",
    "        newNode = Node(value)\n",
    "        if self.head == None:\n",
    "            self.head = newNode\n",
    "            self.tail = newNode\n",
    "        else:\n",
    "            if location == 0:\n",
    "                newNode.next = self.head\n",
    "                self.head = newNode\n",
    "            elif location == -1:\n",
    "                newNode.next = self.tail\n",
    "                self.tail.next = newNode\n",
    "                self.tail = newNode\n",
    "            else:\n",
    "                tempnode = self.head\n",
    "                # Traverse through nodes\n",
    "                index = 0\n",
    "                while index < location -1 :\n",
    "                    tempnode = tempnode.next\n",
    "                    index += 1\n",
    "                nextnode = tempnode.next # tempnode is current node, so next node is node after inserting new node do it tempnode.next\n",
    "                tempnode.next = newNode # newnode next refernce would be new node\n",
    "                newNode.next = nextnode # newnode next refernce would be next node which is next node\n",
    "                if tempnode == self.tail:\n",
    "                    self.tail = newNode"
   ]
  },
  {
   "cell_type": "code",
   "execution_count": 42,
   "id": "3b3aea29",
   "metadata": {},
   "outputs": [
    {
     "name": "stdout",
     "output_type": "stream",
     "text": [
      "[1, 2, 3, 4]\n"
     ]
    }
   ],
   "source": [
    "ss = SlinkedList()\n",
    "ss.insert(1,0)\n",
    "ss.insert(2,1)\n",
    "ss.insert(3,2)\n",
    "ss.insert(4,3)\n",
    "print([node.value for node in ss])"
   ]
  },
  {
   "cell_type": "code",
   "execution_count": 38,
   "id": "46eaaa7f",
   "metadata": {},
   "outputs": [
    {
     "data": {
      "text/plain": [
       "False"
      ]
     },
     "execution_count": 38,
     "metadata": {},
     "output_type": "execute_result"
    }
   ],
   "source": [
    "0<0"
   ]
  },
  {
   "cell_type": "code",
   "execution_count": null,
   "id": "aae88a3d",
   "metadata": {},
   "outputs": [],
   "source": []
  },
  {
   "cell_type": "code",
   "execution_count": null,
   "id": "83777520",
   "metadata": {},
   "outputs": [],
   "source": []
  }
 ],
 "metadata": {
  "kernelspec": {
   "display_name": "Python 3 (ipykernel)",
   "language": "python",
   "name": "python3"
  },
  "language_info": {
   "codemirror_mode": {
    "name": "ipython",
    "version": 3
   },
   "file_extension": ".py",
   "mimetype": "text/x-python",
   "name": "python",
   "nbconvert_exporter": "python",
   "pygments_lexer": "ipython3",
   "version": "3.9.13"
  }
 },
 "nbformat": 4,
 "nbformat_minor": 5
}
