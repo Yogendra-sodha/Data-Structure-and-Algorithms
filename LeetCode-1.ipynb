{
 "cells": [
  {
   "cell_type": "code",
   "execution_count": 66,
   "metadata": {},
   "outputs": [],
   "source": [
    "\n",
    " def romanToInt(s: str) -> int:\n",
    "    dic = {\"I\" :1,\"V\":5,\"X\":10,\"L\":50,\"C\":100,\"D\":500,\"M\":1000}\n",
    "    a = [x for x in s]\n",
    "    total = 0\n",
    "    for i in range(len(a)-1):\n",
    "        if a[i] == \"I\" and a[i+1] == \"V\":\n",
    "            total +=4\n",
    "            a = [x.replace(\"I\",\" \") for x in a]\n",
    "            a = [x.replace(\"V\",\" \") for x in a]\n",
    "            # if a[i] in dic.keys():\n",
    "            #     total = total + dic[a[i]]\n",
    "        if a[i] == \"I\" and a[i+1] == \"X\":\n",
    "            total +=9\n",
    "            if i in dic.keys():\n",
    "                total += dic[i]\n",
    "        if a[i] == \"X\" and a[i+1] == \"L\":\n",
    "            total +=40\n",
    "            if i in dic.keys():\n",
    "                total += dic[i]\n",
    "        if a[i] == \"X\" and a[i+1] == \"C\":\n",
    "            total+=90\n",
    "            if i in dic.keys():\n",
    "                total += dic[i]\n",
    "        if a[i] == \"C\" and a[i+1] == \"D\":\n",
    "            total +=400\n",
    "            if i in dic.keys():\n",
    "                total += dic[i]\n",
    "        if a[i] == \"C\" and a[i+1] == \"M\":\n",
    "            total +=900\n",
    "            if i in dic.keys():\n",
    "                total += dic[i]\n",
    "        if a[i] in dic.keys():\n",
    "            total = total + dic[a[i]]\n",
    "    return total\n"
   ]
  },
  {
   "cell_type": "code",
   "execution_count": 67,
   "metadata": {},
   "outputs": [
    {
     "data": {
      "text/plain": [
       "4"
      ]
     },
     "execution_count": 67,
     "metadata": {},
     "output_type": "execute_result"
    }
   ],
   "source": [
    "romanToInt(\"IVII\")"
   ]
  },
  {
   "cell_type": "code",
   "execution_count": 69,
   "metadata": {},
   "outputs": [],
   "source": [
    "a = [1,2]\n",
    "b = [2,12]\n",
    "c = [] \n",
    "c.append(-1*a[0])"
   ]
  },
  {
   "cell_type": "code",
   "execution_count": 70,
   "metadata": {},
   "outputs": [
    {
     "data": {
      "text/plain": [
       "[-1]"
      ]
     },
     "execution_count": 70,
     "metadata": {},
     "output_type": "execute_result"
    }
   ],
   "source": [
    "c"
   ]
  }
 ],
 "metadata": {
  "kernelspec": {
   "display_name": "base",
   "language": "python",
   "name": "python3"
  },
  "language_info": {
   "codemirror_mode": {
    "name": "ipython",
    "version": 3
   },
   "file_extension": ".py",
   "mimetype": "text/x-python",
   "name": "python",
   "nbconvert_exporter": "python",
   "pygments_lexer": "ipython3",
   "version": "3.9.13 (main, Aug 25 2022, 23:51:50) [MSC v.1916 64 bit (AMD64)]"
  },
  "orig_nbformat": 4,
  "vscode": {
   "interpreter": {
    "hash": "7afb12e1b6cb2fe508d82782f58465475fd08bfa77006d3d9b199bbdaa03ee6b"
   }
  }
 },
 "nbformat": 4,
 "nbformat_minor": 2
}
