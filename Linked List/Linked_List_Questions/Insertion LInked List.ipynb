{
 "cells": [
  {
   "cell_type": "code",
   "execution_count": 22,
   "id": "a74dabcc",
   "metadata": {},
   "outputs": [],
   "source": [
    "class Node:\n",
    "    def __init__(self,value=None):\n",
    "        self.value = value\n",
    "        self.next = None\n",
    "class SlinkedList:\n",
    "    def __init__(self):\n",
    "        self.head = None\n",
    "        self.tail = None\n",
    "    def __iter__(self):\n",
    "        node = self.head\n",
    "        while node:\n",
    "            yield node\n",
    "            node = node.next       \n",
    "    def insert(self,value,location):\n",
    "        newNode = Node(value)\n",
    "        if self.head == None:\n",
    "            self.head = newNode\n",
    "            self.tail = newNode\n",
    "        else:\n",
    "            if location == 0:\n",
    "                newNode.next = self.head\n",
    "                self.head = newNode\n",
    "            elif location == -1:\n",
    "                newNode.next = self.tail\n",
    "                self.tail.next = newNode\n",
    "                self.tail = newNode\n",
    "            else:\n",
    "                tempnode = self.head\n",
    "                # Traverse through nodes\n",
    "                index = 0\n",
    "                while index < location -1 :\n",
    "                    tempnode = tempnode.next\n",
    "                    index += 1\n",
    "                nextnode = tempnode.next # tempnode is current node, so next node is node after inserting new node do it tempnode.next\n",
    "                tempnode.next = newNode # newnode next refernce would be new node\n",
    "                newNode.next = nextnode # newnode next refernce would be next node which is next node\n",
    "                if tempnode == self.tail:\n",
    "                    self.tail = newNode"
   ]
  },
  {
   "cell_type": "code",
   "execution_count": 42,
   "id": "3b3aea29",
   "metadata": {},
   "outputs": [
    {
     "name": "stdout",
     "output_type": "stream",
     "text": [
      "[1, 2, 3, 4]\n"
     ]
    }
   ],
   "source": [
    "ss = SlinkedList()\n",
    "ss.insert(1,0)\n",
    "ss.insert(2,1)\n",
    "ss.insert(3,2)\n",
    "ss.insert(4,3)\n",
    "print([node.value for node in ss])"
   ]
  },
  {
   "cell_type": "code",
   "execution_count": 38,
   "id": "46eaaa7f",
   "metadata": {},
   "outputs": [
    {
     "data": {
      "text/plain": [
       "False"
      ]
     },
     "execution_count": 38,
     "metadata": {},
     "output_type": "execute_result"
    }
   ],
   "source": [
    "0<0"
   ]
  },
  {
   "cell_type": "code",
   "execution_count": null,
   "id": "aae88a3d",
   "metadata": {},
   "outputs": [],
   "source": []
  },
  {
   "cell_type": "code",
   "execution_count": 2,
   "id": "83777520",
   "metadata": {},
   "outputs": [
    {
     "data": {
      "text/plain": [
       "'X'"
      ]
     },
     "execution_count": 2,
     "metadata": {},
     "output_type": "execute_result"
    }
   ],
   "source": [
    "a = \"IXVII\"\n",
    "a[1]"
   ]
  },
  {
   "cell_type": "code",
   "execution_count": 53,
   "id": "8be50f72",
   "metadata": {},
   "outputs": [],
   "source": [
    "\n",
    "def romanToInt(s):\n",
    "    romanDict = {\"I\":1,\"V\":5,\"X\":10,\"L\":50,\"C\":100,\"D\":500,\"M\":1000}\n",
    "    convRoman = []\n",
    "    for i in range(len(s)-1):\n",
    "        if s[i]== \"I\" or s[i]==\"X\" or s[i]==\"C\":\n",
    "            sumInt = True\n",
    "            for j in range(i+1,len(s)):\n",
    "                if romanDict[s[j]]>romanDict[s[i]]:\n",
    "                    convRoman.append(-1*romanDict[s[i]])\n",
    "                    # print(\"inner loop\")\n",
    "                    # print(convRoman)\n",
    "                    sumInt = False\n",
    "                    break\n",
    "                if sumInt:\n",
    "                    # print(\"outer loop\")\n",
    "                    convRoman.append(romanDict[s[i]])\n",
    "                    # print(convRoman)\n",
    "                    break\n",
    "        else:\n",
    "            # print(\"Else loop\")\n",
    "            convRoman.append(romanDict[s[i]])\n",
    "            # print(convRoman)\n",
    "    convRoman.append(romanDict[s[-1]])\n",
    "    # print(convRoman)\n",
    "    return sum(convRoman)             "
   ]
  },
  {
   "cell_type": "code",
   "execution_count": 54,
   "id": "8bab0335",
   "metadata": {},
   "outputs": [
    {
     "name": "stdout",
     "output_type": "stream",
     "text": [
      "Else loop\n",
      "[1000]\n",
      "inner loop\n",
      "[1000, -100]\n",
      "Else loop\n",
      "[1000, -100, 1000]\n",
      "inner loop\n",
      "[1000, -100, 1000, -10]\n",
      "outer loop\n",
      "[1000, -100, 1000, -10, 100]\n",
      "inner loop\n",
      "[1000, -100, 1000, -10, 100, -1]\n",
      "[1000, -100, 1000, -10, 100, -1, 5]\n"
     ]
    },
    {
     "data": {
      "text/plain": [
       "1994"
      ]
     },
     "execution_count": 54,
     "metadata": {},
     "output_type": "execute_result"
    }
   ],
   "source": [
    "romanToInt(\"MCMXCIV\")"
   ]
  },
  {
   "cell_type": "code",
   "execution_count": 55,
   "id": "f6f0998b",
   "metadata": {},
   "outputs": [
    {
     "name": "stdout",
     "output_type": "stream",
     "text": [
      "hd\n",
      "hdl\n",
      "hdll\n"
     ]
    }
   ],
   "source": [
    "a = [\"hdllkmp\",\"hdkknD\",\"hdxbh\"]\n",
    "c = []\n",
    "for i,j in enumerate(zip(*a)):\n",
    "    # print(j)\n",
    "    if len(set(j))>1:\n",
    "        print(a[0][:i])\n"
   ]
  },
  {
   "cell_type": "code",
   "execution_count": 42,
   "id": "1fc23e5c",
   "metadata": {},
   "outputs": [
    {
     "name": "stdout",
     "output_type": "stream",
     "text": [
      "0\n",
      "1\n"
     ]
    }
   ],
   "source": [
    "final = []\n",
    "for i in range(len(c)):\n",
    "    print(i)\n",
    "    final.append(c[i][0])"
   ]
  },
  {
   "cell_type": "code",
   "execution_count": 46,
   "id": "5e23deb9",
   "metadata": {},
   "outputs": [
    {
     "data": {
      "text/plain": [
       "'hdkknD'"
      ]
     },
     "execution_count": 46,
     "metadata": {},
     "output_type": "execute_result"
    }
   ],
   "source": [
    "min(a)"
   ]
  },
  {
   "cell_type": "code",
   "execution_count": 34,
   "id": "4d0241d3",
   "metadata": {},
   "outputs": [
    {
     "data": {
      "text/plain": [
       "[('h', 'h', 'h'), ('d', 'd', 'd')]"
      ]
     },
     "execution_count": 34,
     "metadata": {},
     "output_type": "execute_result"
    }
   ],
   "source": [
    "c"
   ]
  },
  {
   "cell_type": "code",
   "execution_count": 40,
   "id": "2a8e65e4",
   "metadata": {},
   "outputs": [
    {
     "data": {
      "text/plain": [
       "2"
      ]
     },
     "execution_count": 40,
     "metadata": {},
     "output_type": "execute_result"
    }
   ],
   "source": [
    "len(c)"
   ]
  },
  {
   "cell_type": "code",
   "execution_count": null,
   "id": "6eb6dacb",
   "metadata": {},
   "outputs": [],
   "source": []
  }
 ],
 "metadata": {
  "kernelspec": {
   "display_name": "base",
   "language": "python",
   "name": "python3"
  },
  "language_info": {
   "codemirror_mode": {
    "name": "ipython",
    "version": 3
   },
   "file_extension": ".py",
   "mimetype": "text/x-python",
   "name": "python",
   "nbconvert_exporter": "python",
   "pygments_lexer": "ipython3",
   "version": "3.9.13 (main, Aug 25 2022, 23:51:50) [MSC v.1916 64 bit (AMD64)]"
  },
  "vscode": {
   "interpreter": {
    "hash": "7afb12e1b6cb2fe508d82782f58465475fd08bfa77006d3d9b199bbdaa03ee6b"
   }
  }
 },
 "nbformat": 4,
 "nbformat_minor": 5
}
