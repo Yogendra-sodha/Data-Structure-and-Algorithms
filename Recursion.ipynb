{
 "cells": [
  {
   "cell_type": "code",
   "execution_count": 20,
   "id": "f34c1832",
   "metadata": {},
   "outputs": [],
   "source": [
    "import random"
   ]
  },
  {
   "cell_type": "markdown",
   "id": "7f783bdb",
   "metadata": {},
   "source": [
    "Recursion of fibannaci sequence"
   ]
  },
  {
   "cell_type": "code",
   "execution_count": 21,
   "id": "8dd5c54e",
   "metadata": {},
   "outputs": [],
   "source": [
    "def fib(n):\n",
    "    assert n>=1 and int(n)== n, \"number must be positive\"\n",
    "    if n in [0,1]:\n",
    "        return 1\n",
    "    else:\n",
    "        return n * fib(n-1)"
   ]
  },
  {
   "cell_type": "code",
   "execution_count": 22,
   "id": "985f414d",
   "metadata": {},
   "outputs": [],
   "source": [
    "# fib(3)"
   ]
  },
  {
   "cell_type": "code",
   "execution_count": 23,
   "id": "3b2f3231",
   "metadata": {},
   "outputs": [],
   "source": [
    "def fibseries(n):\n",
    "    assert n>=0 and int(n) == n, \"the number must be positive and more than 1\"\n",
    "    if n in [0,1]:\n",
    "        return n\n",
    "    else:\n",
    "        return fibseries(n-1) + fibseries(n-2)"
   ]
  },
  {
   "cell_type": "code",
   "execution_count": 24,
   "id": "4d00b61b",
   "metadata": {},
   "outputs": [
    {
     "data": {
      "text/plain": [
       "8"
      ]
     },
     "execution_count": 24,
     "metadata": {},
     "output_type": "execute_result"
    }
   ],
   "source": [
    "fibseries(6)"
   ]
  },
  {
   "cell_type": "markdown",
   "id": "8a799b67",
   "metadata": {},
   "source": [
    "Sum of Digits"
   ]
  },
  {
   "cell_type": "code",
   "execution_count": 25,
   "id": "2e5e02a8",
   "metadata": {},
   "outputs": [],
   "source": [
    "def sumofDigits(n:int):\n",
    "    assert n>=0, 'n should positive integer'\n",
    "    if n == 0:\n",
    "        return 0\n",
    "    else :\n",
    "        return int(n%10) + sumofDigits(int(n/10)) #int(4/10=0.4)=0) int conversion will make 0.4 to 0"
   ]
  },
  {
   "cell_type": "markdown",
   "id": "6e94264b",
   "metadata": {},
   "source": [
    "Generating Test Case"
   ]
  },
  {
   "cell_type": "code",
   "execution_count": 26,
   "id": "84820b06",
   "metadata": {},
   "outputs": [],
   "source": [
    "testCase = [random.randint(0,1000) for i in range (0,10)]"
   ]
  },
  {
   "cell_type": "code",
   "execution_count": 27,
   "id": "9c828722",
   "metadata": {},
   "outputs": [
    {
     "data": {
      "text/plain": [
       "[969, 54, 362, 370, 93, 583, 928, 661, 151, 17]"
      ]
     },
     "execution_count": 27,
     "metadata": {},
     "output_type": "execute_result"
    }
   ],
   "source": [
    "testCase"
   ]
  },
  {
   "cell_type": "code",
   "execution_count": 28,
   "id": "e26176d4",
   "metadata": {},
   "outputs": [],
   "source": [
    "sumtestCase = [sumofDigits(i) for i in testCase]"
   ]
  },
  {
   "cell_type": "code",
   "execution_count": 29,
   "id": "796ea4d5",
   "metadata": {},
   "outputs": [
    {
     "data": {
      "text/plain": [
       "[24, 9, 11, 10, 12, 16, 19, 13, 7, 8]"
      ]
     },
     "execution_count": 29,
     "metadata": {},
     "output_type": "execute_result"
    }
   ],
   "source": [
    "sumtestCase"
   ]
  },
  {
   "cell_type": "markdown",
   "id": "8078b7d5",
   "metadata": {},
   "source": [
    "## Power of number"
   ]
  },
  {
   "cell_type": "markdown",
   "id": "f22b9c72",
   "metadata": {},
   "source": [
    "m^n = m*m*m*(n times)\n",
    "\n",
    "\n",
    "Step :1 - Find the recursive case flow\n",
    "\n",
    "\n",
    "2^4 = 2*2*2*2\n",
    "\n",
    "\n",
    "2^3 * 2^2 * 2^1 = 2^4 === (2 * 2^(n-1))\n",
    "\n",
    "\n",
    "Step 2 : Base case stopping Condition\n",
    "n=0"
   ]
  },
  {
   "cell_type": "code",
   "execution_count": 30,
   "id": "a56c1963",
   "metadata": {},
   "outputs": [],
   "source": [
    "def power(m,n):\n",
    "    assert int(n)==n,'n should integer'\n",
    "    if n == 0:\n",
    "        return 1\n",
    "    elif n<0:\n",
    "        return 1/(m*power(m,n+1))\n",
    "    return m * power(m,n-1)"
   ]
  },
  {
   "cell_type": "code",
   "execution_count": 31,
   "id": "2b62a06e",
   "metadata": {},
   "outputs": [
    {
     "data": {
      "text/plain": [
       "0.5"
      ]
     },
     "execution_count": 31,
     "metadata": {},
     "output_type": "execute_result"
    }
   ],
   "source": [
    "power(2,-3)"
   ]
  },
  {
   "cell_type": "code",
   "execution_count": 32,
   "id": "9da3adf0",
   "metadata": {},
   "outputs": [],
   "source": [
    "testCase = [(random.randint(0,1000),random.randint(1,9)) for i in range (0,10)]"
   ]
  },
  {
   "cell_type": "code",
   "execution_count": 33,
   "id": "cb47c8b0",
   "metadata": {},
   "outputs": [],
   "source": [
    "powerTestCase = [power(testCase[i][0],testCase[i][1]) for i in range(len(testCase))]"
   ]
  },
  {
   "cell_type": "code",
   "execution_count": 34,
   "id": "4069d497",
   "metadata": {},
   "outputs": [
    {
     "data": {
      "text/plain": [
       "[214369,\n",
       " 50479304976,\n",
       " 151200723071169643041,\n",
       " 397,\n",
       " 599270234533427607920896,\n",
       " 14309137159611744256,\n",
       " 262144,\n",
       " 10355301121,\n",
       " 151613669376,\n",
       " 71556558857961445666105856]"
      ]
     },
     "execution_count": 34,
     "metadata": {},
     "output_type": "execute_result"
    }
   ],
   "source": [
    "powerTestCase"
   ]
  },
  {
   "cell_type": "code",
   "execution_count": 35,
   "id": "0a2e621f",
   "metadata": {},
   "outputs": [],
   "source": [
    "# Greatest Common Divisior"
   ]
  },
  {
   "cell_type": "code",
   "execution_count": 53,
   "id": "18b43430",
   "metadata": {},
   "outputs": [],
   "source": [
    "def gcd(a,b):\n",
    "    assert int(b)==b and int(a)==a, \"a and b should be integer\"\n",
    "    if a <0:\n",
    "        a = -1 *a\n",
    "    if b < 0 :\n",
    "        b = -1 *b\n",
    "    if b == 0:\n",
    "        return a\n",
    "    return gcd(b,a%b)"
   ]
  },
  {
   "cell_type": "code",
   "execution_count": 67,
   "id": "feb3817c",
   "metadata": {},
   "outputs": [
    {
     "data": {
      "text/plain": [
       "16"
      ]
     },
     "execution_count": 67,
     "metadata": {},
     "output_type": "execute_result"
    }
   ],
   "source": [
    "gcd(48,-64)"
   ]
  },
  {
   "cell_type": "code",
   "execution_count": 8,
   "id": "e0d858ab",
   "metadata": {},
   "outputs": [],
   "source": [
    "def binaryConversion(n):\n",
    "    if n == 0:\n",
    "        return 0\n",
    "    else:\n",
    "        return n%2 + 10 * binaryConversion(int(n/2))"
   ]
  },
  {
   "cell_type": "code",
   "execution_count": 11,
   "id": "a02d529d",
   "metadata": {},
   "outputs": [
    {
     "data": {
      "text/plain": [
       "1011"
      ]
     },
     "execution_count": 11,
     "metadata": {},
     "output_type": "execute_result"
    }
   ],
   "source": [
    "binaryConversion(11)"
   ]
  },
  {
   "cell_type": "code",
   "execution_count": null,
   "id": "1d4bb0e9",
   "metadata": {},
   "outputs": [],
   "source": []
  },
  {
   "cell_type": "code",
   "execution_count": null,
   "id": "5636c396",
   "metadata": {},
   "outputs": [],
   "source": []
  }
 ],
 "metadata": {
  "kernelspec": {
   "display_name": "Python 3 (ipykernel)",
   "language": "python",
   "name": "python3"
  },
  "language_info": {
   "codemirror_mode": {
    "name": "ipython",
    "version": 3
   },
   "file_extension": ".py",
   "mimetype": "text/x-python",
   "name": "python",
   "nbconvert_exporter": "python",
   "pygments_lexer": "ipython3",
   "version": "3.9.13"
  }
 },
 "nbformat": 4,
 "nbformat_minor": 5
}
